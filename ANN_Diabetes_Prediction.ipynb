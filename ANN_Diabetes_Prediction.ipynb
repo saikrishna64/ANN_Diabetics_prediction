{
 "cells": [
  {
   "cell_type": "code",
   "execution_count": 1,
   "id": "7d7fee1c",
   "metadata": {},
   "outputs": [],
   "source": [
    "# importing libraries\n",
    "import numpy as np\n",
    "import pandas as pd\n",
    "import matplotlib.pyplot as plt"
   ]
  },
  {
   "cell_type": "code",
   "execution_count": 2,
   "id": "d80a7e1f",
   "metadata": {},
   "outputs": [
    {
     "data": {
      "text/html": [
       "<div>\n",
       "<style scoped>\n",
       "    .dataframe tbody tr th:only-of-type {\n",
       "        vertical-align: middle;\n",
       "    }\n",
       "\n",
       "    .dataframe tbody tr th {\n",
       "        vertical-align: top;\n",
       "    }\n",
       "\n",
       "    .dataframe thead th {\n",
       "        text-align: right;\n",
       "    }\n",
       "</style>\n",
       "<table border=\"1\" class=\"dataframe\">\n",
       "  <thead>\n",
       "    <tr style=\"text-align: right;\">\n",
       "      <th></th>\n",
       "      <th>Pregnancies</th>\n",
       "      <th>Glucose</th>\n",
       "      <th>BloodPressure</th>\n",
       "      <th>SkinThickness</th>\n",
       "      <th>Insulin</th>\n",
       "      <th>BMI</th>\n",
       "      <th>DiabetesPedigreeFunction</th>\n",
       "      <th>Age</th>\n",
       "      <th>Outcome</th>\n",
       "    </tr>\n",
       "  </thead>\n",
       "  <tbody>\n",
       "    <tr>\n",
       "      <th>0</th>\n",
       "      <td>6</td>\n",
       "      <td>148</td>\n",
       "      <td>72</td>\n",
       "      <td>35</td>\n",
       "      <td>0</td>\n",
       "      <td>33.6</td>\n",
       "      <td>0.627</td>\n",
       "      <td>50</td>\n",
       "      <td>1</td>\n",
       "    </tr>\n",
       "    <tr>\n",
       "      <th>1</th>\n",
       "      <td>1</td>\n",
       "      <td>85</td>\n",
       "      <td>66</td>\n",
       "      <td>29</td>\n",
       "      <td>0</td>\n",
       "      <td>26.6</td>\n",
       "      <td>0.351</td>\n",
       "      <td>31</td>\n",
       "      <td>0</td>\n",
       "    </tr>\n",
       "    <tr>\n",
       "      <th>2</th>\n",
       "      <td>8</td>\n",
       "      <td>183</td>\n",
       "      <td>64</td>\n",
       "      <td>0</td>\n",
       "      <td>0</td>\n",
       "      <td>23.3</td>\n",
       "      <td>0.672</td>\n",
       "      <td>32</td>\n",
       "      <td>1</td>\n",
       "    </tr>\n",
       "    <tr>\n",
       "      <th>3</th>\n",
       "      <td>1</td>\n",
       "      <td>89</td>\n",
       "      <td>66</td>\n",
       "      <td>23</td>\n",
       "      <td>94</td>\n",
       "      <td>28.1</td>\n",
       "      <td>0.167</td>\n",
       "      <td>21</td>\n",
       "      <td>0</td>\n",
       "    </tr>\n",
       "    <tr>\n",
       "      <th>4</th>\n",
       "      <td>0</td>\n",
       "      <td>137</td>\n",
       "      <td>40</td>\n",
       "      <td>35</td>\n",
       "      <td>168</td>\n",
       "      <td>43.1</td>\n",
       "      <td>2.288</td>\n",
       "      <td>33</td>\n",
       "      <td>1</td>\n",
       "    </tr>\n",
       "    <tr>\n",
       "      <th>...</th>\n",
       "      <td>...</td>\n",
       "      <td>...</td>\n",
       "      <td>...</td>\n",
       "      <td>...</td>\n",
       "      <td>...</td>\n",
       "      <td>...</td>\n",
       "      <td>...</td>\n",
       "      <td>...</td>\n",
       "      <td>...</td>\n",
       "    </tr>\n",
       "    <tr>\n",
       "      <th>763</th>\n",
       "      <td>10</td>\n",
       "      <td>101</td>\n",
       "      <td>76</td>\n",
       "      <td>48</td>\n",
       "      <td>180</td>\n",
       "      <td>32.9</td>\n",
       "      <td>0.171</td>\n",
       "      <td>63</td>\n",
       "      <td>0</td>\n",
       "    </tr>\n",
       "    <tr>\n",
       "      <th>764</th>\n",
       "      <td>2</td>\n",
       "      <td>122</td>\n",
       "      <td>70</td>\n",
       "      <td>27</td>\n",
       "      <td>0</td>\n",
       "      <td>36.8</td>\n",
       "      <td>0.340</td>\n",
       "      <td>27</td>\n",
       "      <td>0</td>\n",
       "    </tr>\n",
       "    <tr>\n",
       "      <th>765</th>\n",
       "      <td>5</td>\n",
       "      <td>121</td>\n",
       "      <td>72</td>\n",
       "      <td>23</td>\n",
       "      <td>112</td>\n",
       "      <td>26.2</td>\n",
       "      <td>0.245</td>\n",
       "      <td>30</td>\n",
       "      <td>0</td>\n",
       "    </tr>\n",
       "    <tr>\n",
       "      <th>766</th>\n",
       "      <td>1</td>\n",
       "      <td>126</td>\n",
       "      <td>60</td>\n",
       "      <td>0</td>\n",
       "      <td>0</td>\n",
       "      <td>30.1</td>\n",
       "      <td>0.349</td>\n",
       "      <td>47</td>\n",
       "      <td>1</td>\n",
       "    </tr>\n",
       "    <tr>\n",
       "      <th>767</th>\n",
       "      <td>1</td>\n",
       "      <td>93</td>\n",
       "      <td>70</td>\n",
       "      <td>31</td>\n",
       "      <td>0</td>\n",
       "      <td>30.4</td>\n",
       "      <td>0.315</td>\n",
       "      <td>23</td>\n",
       "      <td>0</td>\n",
       "    </tr>\n",
       "  </tbody>\n",
       "</table>\n",
       "<p>768 rows × 9 columns</p>\n",
       "</div>"
      ],
      "text/plain": [
       "     Pregnancies  Glucose  BloodPressure  SkinThickness  Insulin   BMI  \\\n",
       "0              6      148             72             35        0  33.6   \n",
       "1              1       85             66             29        0  26.6   \n",
       "2              8      183             64              0        0  23.3   \n",
       "3              1       89             66             23       94  28.1   \n",
       "4              0      137             40             35      168  43.1   \n",
       "..           ...      ...            ...            ...      ...   ...   \n",
       "763           10      101             76             48      180  32.9   \n",
       "764            2      122             70             27        0  36.8   \n",
       "765            5      121             72             23      112  26.2   \n",
       "766            1      126             60              0        0  30.1   \n",
       "767            1       93             70             31        0  30.4   \n",
       "\n",
       "     DiabetesPedigreeFunction  Age  Outcome  \n",
       "0                       0.627   50        1  \n",
       "1                       0.351   31        0  \n",
       "2                       0.672   32        1  \n",
       "3                       0.167   21        0  \n",
       "4                       2.288   33        1  \n",
       "..                        ...  ...      ...  \n",
       "763                     0.171   63        0  \n",
       "764                     0.340   27        0  \n",
       "765                     0.245   30        0  \n",
       "766                     0.349   47        1  \n",
       "767                     0.315   23        0  \n",
       "\n",
       "[768 rows x 9 columns]"
      ]
     },
     "execution_count": 2,
     "metadata": {},
     "output_type": "execute_result"
    }
   ],
   "source": [
    "df=pd.read_csv('./diabetes.csv')\n",
    "df"
   ]
  },
  {
   "cell_type": "code",
   "execution_count": 3,
   "id": "2fb68193",
   "metadata": {},
   "outputs": [
    {
     "data": {
      "text/plain": [
       "Pregnancies                 0\n",
       "Glucose                     0\n",
       "BloodPressure               0\n",
       "SkinThickness               0\n",
       "Insulin                     0\n",
       "BMI                         0\n",
       "DiabetesPedigreeFunction    0\n",
       "Age                         0\n",
       "Outcome                     0\n",
       "dtype: int64"
      ]
     },
     "execution_count": 3,
     "metadata": {},
     "output_type": "execute_result"
    }
   ],
   "source": [
    "df.isnull().sum()"
   ]
  },
  {
   "cell_type": "code",
   "execution_count": 4,
   "id": "a741d1f8",
   "metadata": {},
   "outputs": [],
   "source": [
    "x=df.iloc[:,:-1].values\n",
    "y=df.iloc[:,-1].values"
   ]
  },
  {
   "cell_type": "code",
   "execution_count": 5,
   "id": "0798b570",
   "metadata": {},
   "outputs": [
    {
     "data": {
      "text/plain": [
       "array([[  6.   , 148.   ,  72.   , ...,  33.6  ,   0.627,  50.   ],\n",
       "       [  1.   ,  85.   ,  66.   , ...,  26.6  ,   0.351,  31.   ],\n",
       "       [  8.   , 183.   ,  64.   , ...,  23.3  ,   0.672,  32.   ],\n",
       "       ...,\n",
       "       [  5.   , 121.   ,  72.   , ...,  26.2  ,   0.245,  30.   ],\n",
       "       [  1.   , 126.   ,  60.   , ...,  30.1  ,   0.349,  47.   ],\n",
       "       [  1.   ,  93.   ,  70.   , ...,  30.4  ,   0.315,  23.   ]])"
      ]
     },
     "execution_count": 5,
     "metadata": {},
     "output_type": "execute_result"
    }
   ],
   "source": [
    "x"
   ]
  },
  {
   "cell_type": "code",
   "execution_count": 6,
   "id": "7d5bc650",
   "metadata": {},
   "outputs": [],
   "source": [
    "#split the data into train and test part\n",
    "\n",
    "from sklearn.model_selection import train_test_split\n",
    "x_train, x_test, y_train, y_test = train_test_split(x, y, test_size=0.20, random_state=42)"
   ]
  },
  {
   "cell_type": "code",
   "execution_count": 7,
   "id": "48dbe175",
   "metadata": {},
   "outputs": [
    {
     "data": {
      "text/plain": [
       "(614, 8)"
      ]
     },
     "execution_count": 7,
     "metadata": {},
     "output_type": "execute_result"
    }
   ],
   "source": [
    "x_train.shape"
   ]
  },
  {
   "cell_type": "markdown",
   "id": "37c43a9f",
   "metadata": {},
   "source": [
    "# Build an ANN "
   ]
  },
  {
   "cell_type": "code",
   "execution_count": 8,
   "id": "0c0f33e3",
   "metadata": {},
   "outputs": [],
   "source": [
    "# import keras library and packages\n",
    "\n",
    "import tensorflow as tf"
   ]
  },
  {
   "cell_type": "code",
   "execution_count": 9,
   "id": "e61ebb6c",
   "metadata": {},
   "outputs": [],
   "source": [
    "import keras \n",
    "from keras.models import Sequential\n",
    "from keras.layers import Dense\n",
    "from keras.layers import Dropout"
   ]
  },
  {
   "cell_type": "code",
   "execution_count": 10,
   "id": "acde50b9",
   "metadata": {},
   "outputs": [],
   "source": [
    "classifier=Sequential()\n",
    "\n",
    "# adding input layers\n",
    "input_layer=Dense(activation='relu', input_dim=10, kernel_initializer='uniform', units=10)"
   ]
  },
  {
   "cell_type": "code",
   "execution_count": 11,
   "id": "f108de7b",
   "metadata": {},
   "outputs": [],
   "source": [
    "#adding hidden layers\n",
    "layer_info=Dense(activation='relu', kernel_initializer='uniform', units=1000)\n",
    "classifier.add(layer_info)\n",
    "\n",
    "layer_info=Dense(activation='relu', kernel_initializer='uniform', units=500)\n",
    "classifier.add(layer_info)\n",
    "\n",
    "layer_info=Dense(activation='relu', kernel_initializer='uniform', units=250)\n",
    "classifier.add(layer_info)\n",
    "\n",
    "layer_info=Dense(activation='relu', kernel_initializer='uniform', units=100)\n",
    "classifier.add(layer_info)"
   ]
  },
  {
   "cell_type": "code",
   "execution_count": 12,
   "id": "6d2dec75",
   "metadata": {},
   "outputs": [],
   "source": [
    "#adding output layer\n",
    "layer_info=Dense(activation='sigmoid', kernel_initializer='uniform', units=1)\n",
    "classifier.add(layer_info)"
   ]
  },
  {
   "cell_type": "code",
   "execution_count": 13,
   "id": "10c6b20b",
   "metadata": {},
   "outputs": [],
   "source": [
    "# Compile ANN\n",
    "classifier.compile(optimizer='adam', loss='binary_crossentropy', metrics=['accuracy'])"
   ]
  },
  {
   "cell_type": "code",
   "execution_count": 15,
   "id": "70036336",
   "metadata": {},
   "outputs": [
    {
     "name": "stdout",
     "output_type": "stream",
     "text": [
      "Epoch 1/100\n",
      "56/56 [==============================] - 1s 6ms/step - loss: 0.6889 - accuracy: 0.6304 - val_loss: 0.6485 - val_accuracy: 0.5968\n",
      "Epoch 2/100\n",
      "56/56 [==============================] - 0s 2ms/step - loss: 0.6380 - accuracy: 0.6504 - val_loss: 0.6211 - val_accuracy: 0.7419\n",
      "Epoch 3/100\n",
      "56/56 [==============================] - 0s 2ms/step - loss: 0.6593 - accuracy: 0.6522 - val_loss: 0.6460 - val_accuracy: 0.5968\n",
      "Epoch 4/100\n",
      "56/56 [==============================] - 0s 2ms/step - loss: 0.6284 - accuracy: 0.6449 - val_loss: 0.6214 - val_accuracy: 0.6129\n",
      "Epoch 5/100\n",
      "56/56 [==============================] - 0s 2ms/step - loss: 0.6199 - accuracy: 0.6793 - val_loss: 0.6101 - val_accuracy: 0.7419\n",
      "Epoch 6/100\n",
      "56/56 [==============================] - 0s 3ms/step - loss: 0.6386 - accuracy: 0.6594 - val_loss: 0.6489 - val_accuracy: 0.6935\n",
      "Epoch 7/100\n",
      "56/56 [==============================] - 0s 3ms/step - loss: 0.6313 - accuracy: 0.6558 - val_loss: 0.5991 - val_accuracy: 0.6129\n",
      "Epoch 8/100\n",
      "56/56 [==============================] - 0s 2ms/step - loss: 0.6163 - accuracy: 0.6775 - val_loss: 0.6011 - val_accuracy: 0.7419\n",
      "Epoch 9/100\n",
      "56/56 [==============================] - 0s 3ms/step - loss: 0.6097 - accuracy: 0.7047 - val_loss: 0.6029 - val_accuracy: 0.6452\n",
      "Epoch 10/100\n",
      "56/56 [==============================] - 0s 2ms/step - loss: 0.5949 - accuracy: 0.6667 - val_loss: 0.5790 - val_accuracy: 0.6774\n",
      "Epoch 11/100\n",
      "56/56 [==============================] - 0s 2ms/step - loss: 0.6037 - accuracy: 0.6739 - val_loss: 0.6581 - val_accuracy: 0.6129\n",
      "Epoch 12/100\n",
      "56/56 [==============================] - 0s 2ms/step - loss: 0.5852 - accuracy: 0.6848 - val_loss: 0.5928 - val_accuracy: 0.6774\n",
      "Epoch 13/100\n",
      "56/56 [==============================] - 0s 3ms/step - loss: 0.5796 - accuracy: 0.7174 - val_loss: 0.5711 - val_accuracy: 0.6935\n",
      "Epoch 14/100\n",
      "56/56 [==============================] - 0s 2ms/step - loss: 0.5880 - accuracy: 0.6884 - val_loss: 0.5558 - val_accuracy: 0.6613\n",
      "Epoch 15/100\n",
      "56/56 [==============================] - 0s 3ms/step - loss: 0.5864 - accuracy: 0.6775 - val_loss: 0.5902 - val_accuracy: 0.6452\n",
      "Epoch 16/100\n",
      "56/56 [==============================] - 0s 3ms/step - loss: 0.5696 - accuracy: 0.7011 - val_loss: 0.5590 - val_accuracy: 0.6774\n",
      "Epoch 17/100\n",
      "56/56 [==============================] - 0s 3ms/step - loss: 0.5856 - accuracy: 0.6775 - val_loss: 0.5691 - val_accuracy: 0.6935\n",
      "Epoch 18/100\n",
      "56/56 [==============================] - 0s 2ms/step - loss: 0.5733 - accuracy: 0.7120 - val_loss: 0.6645 - val_accuracy: 0.6613\n",
      "Epoch 19/100\n",
      "56/56 [==============================] - 0s 3ms/step - loss: 0.5765 - accuracy: 0.7138 - val_loss: 0.5578 - val_accuracy: 0.7581\n",
      "Epoch 20/100\n",
      "56/56 [==============================] - 0s 3ms/step - loss: 0.5716 - accuracy: 0.7029 - val_loss: 0.5669 - val_accuracy: 0.6774\n",
      "Epoch 21/100\n",
      "56/56 [==============================] - 0s 2ms/step - loss: 0.5703 - accuracy: 0.7065 - val_loss: 0.5767 - val_accuracy: 0.6774\n",
      "Epoch 22/100\n",
      "56/56 [==============================] - 0s 3ms/step - loss: 0.5767 - accuracy: 0.6993 - val_loss: 0.5458 - val_accuracy: 0.6935\n",
      "Epoch 23/100\n",
      "56/56 [==============================] - 0s 3ms/step - loss: 0.5519 - accuracy: 0.7283 - val_loss: 0.5270 - val_accuracy: 0.7742\n",
      "Epoch 24/100\n",
      "56/56 [==============================] - 0s 2ms/step - loss: 0.5631 - accuracy: 0.7065 - val_loss: 0.5592 - val_accuracy: 0.6774\n",
      "Epoch 25/100\n",
      "56/56 [==============================] - 0s 2ms/step - loss: 0.5484 - accuracy: 0.7156 - val_loss: 0.5388 - val_accuracy: 0.7419\n",
      "Epoch 26/100\n",
      "56/56 [==============================] - 0s 5ms/step - loss: 0.5660 - accuracy: 0.7156 - val_loss: 0.5496 - val_accuracy: 0.7419\n",
      "Epoch 27/100\n",
      "56/56 [==============================] - 0s 3ms/step - loss: 0.5511 - accuracy: 0.7192 - val_loss: 0.5518 - val_accuracy: 0.7097\n",
      "Epoch 28/100\n",
      "56/56 [==============================] - 0s 6ms/step - loss: 0.5505 - accuracy: 0.7156 - val_loss: 0.5239 - val_accuracy: 0.7419\n",
      "Epoch 29/100\n",
      "56/56 [==============================] - 0s 3ms/step - loss: 0.5488 - accuracy: 0.7283 - val_loss: 0.5649 - val_accuracy: 0.6613\n",
      "Epoch 30/100\n",
      "56/56 [==============================] - 0s 3ms/step - loss: 0.5640 - accuracy: 0.7174 - val_loss: 0.5442 - val_accuracy: 0.7581\n",
      "Epoch 31/100\n",
      "56/56 [==============================] - 0s 3ms/step - loss: 0.5422 - accuracy: 0.7228 - val_loss: 0.5586 - val_accuracy: 0.6774\n",
      "Epoch 32/100\n",
      "56/56 [==============================] - 0s 5ms/step - loss: 0.5661 - accuracy: 0.7047 - val_loss: 0.5283 - val_accuracy: 0.7097\n",
      "Epoch 33/100\n",
      "56/56 [==============================] - 0s 3ms/step - loss: 0.5338 - accuracy: 0.7192 - val_loss: 0.5588 - val_accuracy: 0.6935\n",
      "Epoch 34/100\n",
      "56/56 [==============================] - 0s 2ms/step - loss: 0.5397 - accuracy: 0.7391 - val_loss: 0.5432 - val_accuracy: 0.6935\n",
      "Epoch 35/100\n",
      "56/56 [==============================] - 0s 3ms/step - loss: 0.5416 - accuracy: 0.7083 - val_loss: 0.5721 - val_accuracy: 0.7097\n",
      "Epoch 36/100\n",
      "56/56 [==============================] - 0s 3ms/step - loss: 0.5401 - accuracy: 0.7101 - val_loss: 0.5393 - val_accuracy: 0.7581\n",
      "Epoch 37/100\n",
      "56/56 [==============================] - 0s 2ms/step - loss: 0.5254 - accuracy: 0.7246 - val_loss: 0.5464 - val_accuracy: 0.7419\n",
      "Epoch 38/100\n",
      "56/56 [==============================] - 0s 2ms/step - loss: 0.5482 - accuracy: 0.7174 - val_loss: 0.5384 - val_accuracy: 0.7258\n",
      "Epoch 39/100\n",
      "56/56 [==============================] - 0s 3ms/step - loss: 0.5310 - accuracy: 0.7210 - val_loss: 0.5189 - val_accuracy: 0.7742\n",
      "Epoch 40/100\n",
      "56/56 [==============================] - 0s 2ms/step - loss: 0.5343 - accuracy: 0.7409 - val_loss: 0.5107 - val_accuracy: 0.7419\n",
      "Epoch 41/100\n",
      "56/56 [==============================] - 0s 3ms/step - loss: 0.5288 - accuracy: 0.7246 - val_loss: 0.5419 - val_accuracy: 0.7258\n",
      "Epoch 42/100\n",
      "56/56 [==============================] - 0s 3ms/step - loss: 0.5242 - accuracy: 0.7373 - val_loss: 0.5032 - val_accuracy: 0.7097\n",
      "Epoch 43/100\n",
      "56/56 [==============================] - 0s 2ms/step - loss: 0.5275 - accuracy: 0.7264 - val_loss: 0.5353 - val_accuracy: 0.7581\n",
      "Epoch 44/100\n",
      "56/56 [==============================] - 0s 3ms/step - loss: 0.5199 - accuracy: 0.7428 - val_loss: 0.5312 - val_accuracy: 0.7581\n",
      "Epoch 45/100\n",
      "56/56 [==============================] - 0s 3ms/step - loss: 0.5276 - accuracy: 0.7391 - val_loss: 0.5306 - val_accuracy: 0.7419\n",
      "Epoch 46/100\n",
      "56/56 [==============================] - 0s 4ms/step - loss: 0.5186 - accuracy: 0.7264 - val_loss: 0.5354 - val_accuracy: 0.7419\n",
      "Epoch 47/100\n",
      "56/56 [==============================] - 0s 3ms/step - loss: 0.5319 - accuracy: 0.7246 - val_loss: 0.5375 - val_accuracy: 0.7258\n",
      "Epoch 48/100\n",
      "56/56 [==============================] - 0s 2ms/step - loss: 0.5045 - accuracy: 0.7373 - val_loss: 0.5249 - val_accuracy: 0.7258\n",
      "Epoch 49/100\n",
      "56/56 [==============================] - 0s 2ms/step - loss: 0.5262 - accuracy: 0.6975 - val_loss: 0.5211 - val_accuracy: 0.7581\n",
      "Epoch 50/100\n",
      "56/56 [==============================] - 0s 3ms/step - loss: 0.5247 - accuracy: 0.7391 - val_loss: 0.4889 - val_accuracy: 0.7581\n",
      "Epoch 51/100\n",
      "56/56 [==============================] - 0s 6ms/step - loss: 0.5173 - accuracy: 0.7373 - val_loss: 0.5805 - val_accuracy: 0.7258\n",
      "Epoch 52/100\n",
      "56/56 [==============================] - 0s 3ms/step - loss: 0.5237 - accuracy: 0.7500 - val_loss: 0.5087 - val_accuracy: 0.7742\n",
      "Epoch 53/100\n",
      "56/56 [==============================] - 0s 2ms/step - loss: 0.4999 - accuracy: 0.7391 - val_loss: 0.4892 - val_accuracy: 0.7742\n",
      "Epoch 54/100\n",
      "56/56 [==============================] - 0s 3ms/step - loss: 0.5019 - accuracy: 0.7446 - val_loss: 0.5359 - val_accuracy: 0.7097\n",
      "Epoch 55/100\n",
      "56/56 [==============================] - 0s 3ms/step - loss: 0.5008 - accuracy: 0.7500 - val_loss: 0.6321 - val_accuracy: 0.7742\n",
      "Epoch 56/100\n",
      "56/56 [==============================] - 0s 2ms/step - loss: 0.5038 - accuracy: 0.7518 - val_loss: 0.5402 - val_accuracy: 0.7097\n",
      "Epoch 57/100\n",
      "56/56 [==============================] - 0s 2ms/step - loss: 0.5080 - accuracy: 0.7373 - val_loss: 0.5025 - val_accuracy: 0.7581\n",
      "Epoch 58/100\n",
      "56/56 [==============================] - 0s 2ms/step - loss: 0.4859 - accuracy: 0.7482 - val_loss: 0.5179 - val_accuracy: 0.7419\n"
     ]
    },
    {
     "name": "stdout",
     "output_type": "stream",
     "text": [
      "Epoch 59/100\n",
      "56/56 [==============================] - 0s 2ms/step - loss: 0.5157 - accuracy: 0.7591 - val_loss: 0.5202 - val_accuracy: 0.7258\n",
      "Epoch 60/100\n",
      "56/56 [==============================] - 0s 2ms/step - loss: 0.5074 - accuracy: 0.7391 - val_loss: 0.5152 - val_accuracy: 0.7419\n",
      "Epoch 61/100\n",
      "56/56 [==============================] - 0s 3ms/step - loss: 0.5147 - accuracy: 0.7391 - val_loss: 0.5243 - val_accuracy: 0.6935\n",
      "Epoch 62/100\n",
      "56/56 [==============================] - 0s 3ms/step - loss: 0.4827 - accuracy: 0.7500 - val_loss: 0.5995 - val_accuracy: 0.6935\n",
      "Epoch 63/100\n",
      "56/56 [==============================] - 0s 3ms/step - loss: 0.4831 - accuracy: 0.7482 - val_loss: 0.5297 - val_accuracy: 0.7903\n",
      "Epoch 64/100\n",
      "56/56 [==============================] - 0s 3ms/step - loss: 0.4741 - accuracy: 0.7391 - val_loss: 0.5954 - val_accuracy: 0.7419\n",
      "Epoch 65/100\n",
      "56/56 [==============================] - 0s 3ms/step - loss: 0.5125 - accuracy: 0.7536 - val_loss: 0.5131 - val_accuracy: 0.7258\n",
      "Epoch 66/100\n",
      "56/56 [==============================] - 0s 2ms/step - loss: 0.4687 - accuracy: 0.7699 - val_loss: 0.5479 - val_accuracy: 0.7258\n",
      "Epoch 67/100\n",
      "56/56 [==============================] - 0s 3ms/step - loss: 0.4719 - accuracy: 0.7717 - val_loss: 0.5307 - val_accuracy: 0.7903\n",
      "Epoch 68/100\n",
      "56/56 [==============================] - 0s 4ms/step - loss: 0.4549 - accuracy: 0.7754 - val_loss: 0.5232 - val_accuracy: 0.7581\n",
      "Epoch 69/100\n",
      "56/56 [==============================] - 0s 3ms/step - loss: 0.4890 - accuracy: 0.7409 - val_loss: 0.6073 - val_accuracy: 0.7419\n",
      "Epoch 70/100\n",
      "56/56 [==============================] - 0s 2ms/step - loss: 0.4720 - accuracy: 0.7844 - val_loss: 0.5332 - val_accuracy: 0.7581\n",
      "Epoch 71/100\n",
      "56/56 [==============================] - 0s 3ms/step - loss: 0.4526 - accuracy: 0.7681 - val_loss: 0.5351 - val_accuracy: 0.6935\n",
      "Epoch 72/100\n",
      "56/56 [==============================] - 0s 2ms/step - loss: 0.4593 - accuracy: 0.7591 - val_loss: 0.5846 - val_accuracy: 0.6935\n",
      "Epoch 73/100\n",
      "56/56 [==============================] - 0s 2ms/step - loss: 0.4894 - accuracy: 0.7699 - val_loss: 0.5462 - val_accuracy: 0.6935\n",
      "Epoch 74/100\n",
      "56/56 [==============================] - 0s 2ms/step - loss: 0.4773 - accuracy: 0.7627 - val_loss: 0.5486 - val_accuracy: 0.7258\n",
      "Epoch 75/100\n",
      "56/56 [==============================] - 0s 2ms/step - loss: 0.4587 - accuracy: 0.7790 - val_loss: 0.5339 - val_accuracy: 0.7419\n",
      "Epoch 76/100\n",
      "56/56 [==============================] - 0s 2ms/step - loss: 0.4586 - accuracy: 0.7736 - val_loss: 0.5118 - val_accuracy: 0.7419\n",
      "Epoch 77/100\n",
      "56/56 [==============================] - 0s 3ms/step - loss: 0.4537 - accuracy: 0.7681 - val_loss: 0.5192 - val_accuracy: 0.7581\n",
      "Epoch 78/100\n",
      "56/56 [==============================] - 0s 3ms/step - loss: 0.4683 - accuracy: 0.7736 - val_loss: 0.5735 - val_accuracy: 0.7097\n",
      "Epoch 79/100\n",
      "56/56 [==============================] - 0s 2ms/step - loss: 0.4772 - accuracy: 0.7572 - val_loss: 0.5181 - val_accuracy: 0.7581\n",
      "Epoch 80/100\n",
      "56/56 [==============================] - 0s 3ms/step - loss: 0.4480 - accuracy: 0.7772 - val_loss: 0.5625 - val_accuracy: 0.6774\n",
      "Epoch 81/100\n",
      "56/56 [==============================] - 0s 3ms/step - loss: 0.4412 - accuracy: 0.7917 - val_loss: 0.5228 - val_accuracy: 0.7419\n",
      "Epoch 82/100\n",
      "56/56 [==============================] - 0s 3ms/step - loss: 0.4326 - accuracy: 0.7826 - val_loss: 0.5384 - val_accuracy: 0.7581\n",
      "Epoch 83/100\n",
      "56/56 [==============================] - 0s 2ms/step - loss: 0.4767 - accuracy: 0.7645 - val_loss: 0.5471 - val_accuracy: 0.7258\n",
      "Epoch 84/100\n",
      "56/56 [==============================] - 0s 3ms/step - loss: 0.4366 - accuracy: 0.7790 - val_loss: 0.5114 - val_accuracy: 0.7419\n",
      "Epoch 85/100\n",
      "56/56 [==============================] - 0s 3ms/step - loss: 0.4425 - accuracy: 0.7699 - val_loss: 0.6182 - val_accuracy: 0.7258\n",
      "Epoch 86/100\n",
      "56/56 [==============================] - 0s 3ms/step - loss: 0.4397 - accuracy: 0.7736 - val_loss: 0.5692 - val_accuracy: 0.7742\n",
      "Epoch 87/100\n",
      "56/56 [==============================] - 0s 7ms/step - loss: 0.4544 - accuracy: 0.7736 - val_loss: 0.5156 - val_accuracy: 0.7419\n",
      "Epoch 88/100\n",
      "56/56 [==============================] - 0s 3ms/step - loss: 0.4259 - accuracy: 0.7862 - val_loss: 0.5111 - val_accuracy: 0.7097\n",
      "Epoch 89/100\n",
      "56/56 [==============================] - 0s 3ms/step - loss: 0.4132 - accuracy: 0.7808 - val_loss: 0.5254 - val_accuracy: 0.7097\n",
      "Epoch 90/100\n",
      "56/56 [==============================] - 0s 3ms/step - loss: 0.4510 - accuracy: 0.7917 - val_loss: 0.5257 - val_accuracy: 0.7419\n",
      "Epoch 91/100\n",
      "56/56 [==============================] - 0s 3ms/step - loss: 0.4133 - accuracy: 0.8007 - val_loss: 0.6091 - val_accuracy: 0.7258\n",
      "Epoch 92/100\n",
      "56/56 [==============================] - 0s 3ms/step - loss: 0.4081 - accuracy: 0.8025 - val_loss: 0.5107 - val_accuracy: 0.7419\n",
      "Epoch 93/100\n",
      "56/56 [==============================] - 0s 3ms/step - loss: 0.4711 - accuracy: 0.7772 - val_loss: 0.5336 - val_accuracy: 0.7742\n",
      "Epoch 94/100\n",
      "56/56 [==============================] - 0s 2ms/step - loss: 0.4385 - accuracy: 0.7663 - val_loss: 0.5610 - val_accuracy: 0.6935\n",
      "Epoch 95/100\n",
      "56/56 [==============================] - 0s 2ms/step - loss: 0.4468 - accuracy: 0.7790 - val_loss: 0.6000 - val_accuracy: 0.6613\n",
      "Epoch 96/100\n",
      "56/56 [==============================] - 0s 3ms/step - loss: 0.4016 - accuracy: 0.8080 - val_loss: 0.5366 - val_accuracy: 0.7258\n",
      "Epoch 97/100\n",
      "56/56 [==============================] - 0s 3ms/step - loss: 0.4143 - accuracy: 0.8080 - val_loss: 0.6131 - val_accuracy: 0.7258\n",
      "Epoch 98/100\n",
      "56/56 [==============================] - 0s 3ms/step - loss: 0.3971 - accuracy: 0.7989 - val_loss: 0.4835 - val_accuracy: 0.7419\n",
      "Epoch 99/100\n",
      "56/56 [==============================] - 0s 4ms/step - loss: 0.3924 - accuracy: 0.7971 - val_loss: 0.5305 - val_accuracy: 0.7581\n",
      "Epoch 100/100\n",
      "56/56 [==============================] - 0s 2ms/step - loss: 0.3847 - accuracy: 0.8188 - val_loss: 0.5706 - val_accuracy: 0.7581\n"
     ]
    }
   ],
   "source": [
    "reg=classifier.fit(x_train, y_train, validation_split=0.1, batch_size=10, epochs=100)"
   ]
  },
  {
   "cell_type": "code",
   "execution_count": 26,
   "id": "29fa2630",
   "metadata": {},
   "outputs": [
    {
     "name": "stdout",
     "output_type": "stream",
     "text": [
      "5/5 [==============================] - 0s 2ms/step\n"
     ]
    }
   ],
   "source": [
    "y_pred = classifier.predict(x_test)"
   ]
  },
  {
   "cell_type": "code",
   "execution_count": 32,
   "id": "313ff871",
   "metadata": {},
   "outputs": [],
   "source": [
    "yp=[]\n",
    "for i in range(len(y_pred)):\n",
    "    if y_pred[i]<0.5:\n",
    "        yp.append(0)\n",
    "    else:\n",
    "        yp.append(1)"
   ]
  },
  {
   "cell_type": "code",
   "execution_count": 33,
   "id": "04204c8b",
   "metadata": {},
   "outputs": [],
   "source": [
    "from sklearn.metrics import confusion_matrix,accuracy_score,classification_report"
   ]
  },
  {
   "cell_type": "code",
   "execution_count": 34,
   "id": "05735e6c",
   "metadata": {},
   "outputs": [
    {
     "data": {
      "text/plain": [
       "array([[74, 25],\n",
       "       [19, 36]], dtype=int64)"
      ]
     },
     "execution_count": 34,
     "metadata": {},
     "output_type": "execute_result"
    }
   ],
   "source": [
    "confusion_matrix(y_test,yp)"
   ]
  },
  {
   "cell_type": "code",
   "execution_count": 35,
   "id": "c778f2ca",
   "metadata": {},
   "outputs": [
    {
     "name": "stdout",
     "output_type": "stream",
     "text": [
      "              precision    recall  f1-score   support\n",
      "\n",
      "           0       0.80      0.75      0.77        99\n",
      "           1       0.59      0.65      0.62        55\n",
      "\n",
      "    accuracy                           0.71       154\n",
      "   macro avg       0.69      0.70      0.70       154\n",
      "weighted avg       0.72      0.71      0.72       154\n",
      "\n"
     ]
    }
   ],
   "source": [
    "print(classification_report(y_test,yp))"
   ]
  },
  {
   "cell_type": "code",
   "execution_count": 36,
   "id": "98983e91",
   "metadata": {},
   "outputs": [
    {
     "data": {
      "text/plain": [
       "0.7142857142857143"
      ]
     },
     "execution_count": 36,
     "metadata": {},
     "output_type": "execute_result"
    }
   ],
   "source": [
    "accuracy_score(y_test, yp)"
   ]
  },
  {
   "cell_type": "code",
   "execution_count": null,
   "id": "2def7d03",
   "metadata": {},
   "outputs": [],
   "source": []
  }
 ],
 "metadata": {
  "kernelspec": {
   "display_name": "Python 3 (ipykernel)",
   "language": "python",
   "name": "python3"
  },
  "language_info": {
   "codemirror_mode": {
    "name": "ipython",
    "version": 3
   },
   "file_extension": ".py",
   "mimetype": "text/x-python",
   "name": "python",
   "nbconvert_exporter": "python",
   "pygments_lexer": "ipython3",
   "version": "3.9.15"
  }
 },
 "nbformat": 4,
 "nbformat_minor": 5
}
